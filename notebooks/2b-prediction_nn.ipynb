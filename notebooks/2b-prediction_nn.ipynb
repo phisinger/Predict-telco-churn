{
 "cells": [
  {
   "source": [
    "## Imports"
   ],
   "cell_type": "markdown",
   "metadata": {}
  },
  {
   "cell_type": "code",
   "execution_count": 2,
   "id": "9bdd4ffd",
   "metadata": {},
   "outputs": [],
   "source": [
    "import pandas as pd \n",
    "import numpy as np \n",
    "import matplotlib.pyplot as plt\n",
    "import seaborn as sns\n",
    "\n",
    "import tensorflow as tf\n",
    "from tensorflow import keras"
   ]
  },
  {
   "cell_type": "code",
   "execution_count": null,
   "metadata": {},
   "outputs": [],
   "source": [
    "## Load data\n",
    "\n",
    "pickle_in = open(\"..\\data\\X_train.p\", \"rb\")\n",
    "X_train = pickle.load(pickle_in)\n",
    "pickle_in.close()\n",
    "\n",
    "pickle_in = open(\"..\\data\\y_train.p\", \"rb\")\n",
    "y_train = pickle.load(pickle_in)\n",
    "pickle_in.close()\n",
    "\n",
    "pickle_in = open(\"..\\data\\X_test.p\", \"rb\")\n",
    "X_test = pickle.load(pickle_in)\n",
    "pickle_in.close()\n",
    "\n",
    "pickle_in = open(\"..\\data\\y_test.p\", \"rb\")\n",
    "y_test = pickle.load(pickle_in)\n",
    "pickle_in.close()"
   ]
  }
 ],
 "metadata": {
  "kernelspec": {
   "name": "python389jvsc74a57bd07b80923e581c7d339eee8234ce5622e7c9780ccfbcf66f39b50af355405bd0c3",
   "display_name": "Python 3.8.9 64-bit",
   "language": "python"
  },
  "language_info": {
   "codemirror_mode": {
    "name": "ipython",
    "version": 3
   },
   "file_extension": ".py",
   "mimetype": "text/x-python",
   "name": "python",
   "nbconvert_exporter": "python",
   "pygments_lexer": "ipython3",
   "version": "3.8.9"
  }
 },
 "nbformat": 4,
 "nbformat_minor": 5
}