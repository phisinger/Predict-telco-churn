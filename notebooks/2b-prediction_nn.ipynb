{
 "cells": [
  {
   "cell_type": "markdown",
   "metadata": {},
   "source": [
    "## Imports"
   ]
  },
  {
   "cell_type": "code",
   "execution_count": 2,
   "metadata": {},
   "outputs": [
    {
     "name": "stdout",
     "output_type": "stream",
     "text": [
      "Here is Tensorflow 2.4.1\n"
     ]
    }
   ],
   "source": [
    "import pandas as pd \n",
    "import numpy as np \n",
    "import matplotlib.pyplot as plt\n",
    "import seaborn as sns\n",
    "from sklearn.model_selection import train_test_split\n",
    "\n",
    "import tensorflow as tf\n",
    "from tensorflow import keras\n",
    "\n",
    "import pickle\n",
    "\n",
    "print(\"Here is Tensorflow\", tf.__version__)\n"
   ]
  },
  {
   "cell_type": "code",
   "execution_count": 3,
   "metadata": {},
   "outputs": [],
   "source": [
    "## Load data\n",
    "\n",
    "pickle_in = open(\"..\\data\\X_train.p\", \"rb\")\n",
    "X_train = pd.DataFrame(pickle.load(pickle_in))\n",
    "pickle_in.close()\n",
    "\n",
    "pickle_in = open(\"..\\data\\y_train.p\", \"rb\")\n",
    "y_train = pd.DataFrame(pickle.load(pickle_in))\n",
    "pickle_in.close()\n",
    "\n",
    "pickle_in = open(\"..\\data\\X_test.p\", \"rb\")\n",
    "X_test = pd.DataFrame(pickle.load(pickle_in))\n",
    "pickle_in.close()\n",
    "\n",
    "pickle_in = open(\"..\\data\\y_test.p\", \"rb\")\n",
    "y_test = pd.DataFrame(pickle.load(pickle_in))\n",
    "pickle_in.close()\n",
    "\n",
    "print(\"data loaded\")"
   ]
  },
  {
   "cell_type": "code",
   "execution_count": null,
   "metadata": {},
   "outputs": [
    {
     "ename": "Error",
     "evalue": "Session cannot generate requests",
     "output_type": "error",
     "traceback": [
      "Error: Session cannot generate requests",
      "at w.executeCodeCell (c:\\Users\\Philip Singer\\.vscode-insiders\\extensions\\ms-toolsai.jupyter-2021.6.723987413\\out\\client\\extension.js:49:635044)",
      "at w.execute (c:\\Users\\Philip Singer\\.vscode-insiders\\extensions\\ms-toolsai.jupyter-2021.6.723987413\\out\\client\\extension.js:49:634433)",
      "at w.start (c:\\Users\\Philip Singer\\.vscode-insiders\\extensions\\ms-toolsai.jupyter-2021.6.723987413\\out\\client\\extension.js:49:629342)",
      "at processTicksAndRejections (internal/process/task_queues.js:97:5)",
      "at async t.CellExecutionQueue.executeQueuedCells (c:\\Users\\Philip Singer\\.vscode-insiders\\extensions\\ms-toolsai.jupyter-2021.6.723987413\\out\\client\\extension.js:49:644533)",
      "at async t.CellExecutionQueue.start (c:\\Users\\Philip Singer\\.vscode-insiders\\extensions\\ms-toolsai.jupyter-2021.6.723987413\\out\\client\\extension.js:49:644073)"
     ]
    }
   ],
   "source": [
    "## create validation set\r\n",
    "# kernel failed by execution\r\n",
    "X_train, X_val, y_train, y_val = train_test_split(X_train,y_train,test_size=0.2,random_state=123)\r\n"
   ]
  },
  {
   "cell_type": "code",
   "execution_count": 1,
   "metadata": {},
   "outputs": [
    {
     "ename": "SyntaxError",
     "evalue": "invalid syntax (<ipython-input-1-e7a5a752e793>, line 1)",
     "output_type": "error",
     "traceback": [
      "\u001b[1;36m  File \u001b[1;32m\"<ipython-input-1-e7a5a752e793>\"\u001b[1;36m, line \u001b[1;32m1\u001b[0m\n\u001b[1;33m    X_train = X_train[:len(X_train)//]\u001b[0m\n\u001b[1;37m                                     ^\u001b[0m\n\u001b[1;31mSyntaxError\u001b[0m\u001b[1;31m:\u001b[0m invalid syntax\n"
     ]
    }
   ],
   "source": [
    "X_val = X_train[(len(X_train)//5):]\r\n",
    "X_train = X_train[:(len(X_train)//5)]\r\n",
    "\r\n",
    "y_val = y_train[(len(y_train)//5):]\r\n",
    "y_train = y_train[:(len(y_train)//5)]"
   ]
  },
  {
   "cell_type": "code",
   "execution_count": 2,
   "metadata": {},
   "outputs": [
    {
     "ename": "NameError",
     "evalue": "name 'X_train' is not defined",
     "output_type": "error",
     "traceback": [
      "\u001b[1;31m---------------------------------------------------------------------------\u001b[0m",
      "\u001b[1;31mNameError\u001b[0m                                 Traceback (most recent call last)",
      "\u001b[1;32m<ipython-input-2-c1680e4ea04f>\u001b[0m in \u001b[0;36m<module>\u001b[1;34m\u001b[0m\n\u001b[1;32m----> 1\u001b[1;33m \u001b[0mprint\u001b[0m\u001b[1;33m(\u001b[0m\u001b[0mtype\u001b[0m\u001b[1;33m(\u001b[0m\u001b[0mX_train\u001b[0m\u001b[1;33m)\u001b[0m\u001b[1;33m)\u001b[0m\u001b[1;33m\u001b[0m\u001b[1;33m\u001b[0m\u001b[0m\n\u001b[0m",
      "\u001b[1;31mNameError\u001b[0m: name 'X_train' is not defined"
     ]
    }
   ],
   "source": [
    "print(type(X_train))"
   ]
  },
  {
   "cell_type": "code",
   "execution_count": 3,
   "metadata": {},
   "outputs": [],
   "source": [
    "# Input Layer: 20 neurons\n",
    "# hidden Layers: 1 to 5 => 2\n",
    "# Outplut Layer: 1 Neuron\n",
    "# Output Activation function: logistic\n",
    "# Loss function cross entropy"
   ]
  },
  {
   "cell_type": "markdown",
   "metadata": {},
   "source": [
    "# Building the model"
   ]
  },
  {
   "cell_type": "code",
   "execution_count": 4,
   "metadata": {},
   "outputs": [],
   "source": [
    "model = keras.Sequential()\n",
    "model.add(keras.layers.Flatten(input_shape=[20, 1]))\n",
    "model.add(keras.layers.Dense(13, activation=\"relu\"))\n",
    "model.add(keras.layers.Dense(7, activation=\"relu\"))\n",
    "model.add(keras.layers.Dense(1, activation=\"sigmoid\"))"
   ]
  },
  {
   "cell_type": "code",
   "execution_count": 5,
   "metadata": {},
   "outputs": [
    {
     "name": "stdout",
     "output_type": "stream",
     "text": [
      "Model: \"sequential_1\"\n",
      "_________________________________________________________________\n",
      "Layer (type)                 Output Shape              Param #   \n",
      "=================================================================\n",
      "flatten_1 (Flatten)          (None, 20)                0         \n",
      "_________________________________________________________________\n",
      "dense_3 (Dense)              (None, 13)                273       \n",
      "_________________________________________________________________\n",
      "dense_4 (Dense)              (None, 7)                 98        \n",
      "_________________________________________________________________\n",
      "dense_5 (Dense)              (None, 1)                 8         \n",
      "=================================================================\n",
      "Total params: 379\n",
      "Trainable params: 379\n",
      "Non-trainable params: 0\n",
      "_________________________________________________________________\n"
     ]
    }
   ],
   "source": [
    "model.summary()"
   ]
  },
  {
   "cell_type": "code",
   "execution_count": 6,
   "metadata": {},
   "outputs": [],
   "source": [
    "model.compile(loss=\"binary_crossentropy\",\n",
    "    optimizer=\"adam\", \n",
    "    metrics=[\"precision\"])"
   ]
  },
  {
   "cell_type": "code",
   "execution_count": null,
   "metadata": {},
   "outputs": [],
   "source": [
    "training_history = model.fit()"
   ]
  }
 ],
 "metadata": {
  "kernelspec": {
   "display_name": "Python 3.8.9 64-bit",
   "name": "python389jvsc74a57bd07b80923e581c7d339eee8234ce5622e7c9780ccfbcf66f39b50af355405bd0c3"
  },
  "language_info": {
   "codemirror_mode": {
    "name": "ipython",
    "version": 3
   },
   "file_extension": ".py",
   "mimetype": "text/x-python",
   "name": "python",
   "nbconvert_exporter": "python",
   "pygments_lexer": "ipython3",
   "version": "3.8.9"
  }
 },
 "nbformat": 4,
 "nbformat_minor": 5
}