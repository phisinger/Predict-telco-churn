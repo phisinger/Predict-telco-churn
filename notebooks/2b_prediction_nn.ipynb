{
  "cells": [
    {
      "cell_type": "markdown",
      "id": "rDC-HeAxY1c9",
      "metadata": {
        "id": "rDC-HeAxY1c9"
      },
      "source": [
        "# Predict the customer churn with neural networks\n",
        "I ran this notebook in Google colab. The first cell is necessary to mount you colab into your google drive, where you can store and access the data files."
      ]
    },
    {
      "cell_type": "code",
      "execution_count": null,
      "metadata": {},
      "outputs": [],
      "source": [
        "from google.colab import drive\n",
        "drive.mount('/content/drive')\n",
        "\n",
        "!ls  \"/content/drive/MyDrive/Colab_notebooks\""
      ]
    },
    {
      "cell_type": "markdown",
      "metadata": {},
      "source": [
        "## Imports\n",
        "Import keras tuner, to tune neural networks like scikit-learn algorithms ([Link](https://keras.io/keras_tuner/)). We'll see how well it works..."
      ]
    },
    {
      "cell_type": "code",
      "execution_count": 3,
      "id": "jXCItSnh0TN4",
      "metadata": {
        "colab": {
          "base_uri": "https://localhost:8080/"
        },
        "id": "jXCItSnh0TN4",
        "outputId": "673d6306-4419-42a5-b23d-dc28f3883a5e"
      },
      "outputs": [
        {
          "name": "stdout",
          "output_type": "stream",
          "text": [
            "Collecting keras-tuner\n",
            "  Downloading keras_tuner-1.0.4-py3-none-any.whl (97 kB)\n",
            "\u001b[?25l\r\u001b[K     |███▍                            | 10 kB 12.7 MB/s eta 0:00:01\r\u001b[K     |██████▊                         | 20 kB 16.5 MB/s eta 0:00:01\r\u001b[K     |██████████                      | 30 kB 17.0 MB/s eta 0:00:01\r\u001b[K     |█████████████▍                  | 40 kB 11.6 MB/s eta 0:00:01\r\u001b[K     |████████████████▊               | 51 kB 5.8 MB/s eta 0:00:01\r\u001b[K     |████████████████████            | 61 kB 6.3 MB/s eta 0:00:01\r\u001b[K     |███████████████████████▍        | 71 kB 6.6 MB/s eta 0:00:01\r\u001b[K     |██████████████████████████▊     | 81 kB 6.4 MB/s eta 0:00:01\r\u001b[K     |██████████████████████████████▏ | 92 kB 5.1 MB/s eta 0:00:01\r\u001b[K     |████████████████████████████████| 97 kB 3.2 MB/s \n",
            "\u001b[?25hRequirement already satisfied: scipy in /usr/local/lib/python3.7/dist-packages (from keras-tuner) (1.4.1)\n",
            "Requirement already satisfied: numpy in /usr/local/lib/python3.7/dist-packages (from keras-tuner) (1.19.5)\n",
            "Requirement already satisfied: ipython in /usr/local/lib/python3.7/dist-packages (from keras-tuner) (5.5.0)\n",
            "Collecting kt-legacy\n",
            "  Downloading kt_legacy-1.0.4-py3-none-any.whl (9.6 kB)\n",
            "Requirement already satisfied: requests in /usr/local/lib/python3.7/dist-packages (from keras-tuner) (2.23.0)\n",
            "Requirement already satisfied: tensorboard in /usr/local/lib/python3.7/dist-packages (from keras-tuner) (2.6.0)\n",
            "Requirement already satisfied: packaging in /usr/local/lib/python3.7/dist-packages (from keras-tuner) (21.0)\n",
            "Requirement already satisfied: simplegeneric>0.8 in /usr/local/lib/python3.7/dist-packages (from ipython->keras-tuner) (0.8.1)\n",
            "Requirement already satisfied: setuptools>=18.5 in /usr/local/lib/python3.7/dist-packages (from ipython->keras-tuner) (57.4.0)\n",
            "Requirement already satisfied: decorator in /usr/local/lib/python3.7/dist-packages (from ipython->keras-tuner) (4.4.2)\n",
            "Requirement already satisfied: pygments in /usr/local/lib/python3.7/dist-packages (from ipython->keras-tuner) (2.6.1)\n",
            "Requirement already satisfied: prompt-toolkit<2.0.0,>=1.0.4 in /usr/local/lib/python3.7/dist-packages (from ipython->keras-tuner) (1.0.18)\n",
            "Requirement already satisfied: pexpect in /usr/local/lib/python3.7/dist-packages (from ipython->keras-tuner) (4.8.0)\n",
            "Requirement already satisfied: traitlets>=4.2 in /usr/local/lib/python3.7/dist-packages (from ipython->keras-tuner) (5.1.0)\n",
            "Requirement already satisfied: pickleshare in /usr/local/lib/python3.7/dist-packages (from ipython->keras-tuner) (0.7.5)\n",
            "Requirement already satisfied: six>=1.9.0 in /usr/local/lib/python3.7/dist-packages (from prompt-toolkit<2.0.0,>=1.0.4->ipython->keras-tuner) (1.15.0)\n",
            "Requirement already satisfied: wcwidth in /usr/local/lib/python3.7/dist-packages (from prompt-toolkit<2.0.0,>=1.0.4->ipython->keras-tuner) (0.2.5)\n",
            "Requirement already satisfied: pyparsing>=2.0.2 in /usr/local/lib/python3.7/dist-packages (from packaging->keras-tuner) (2.4.7)\n",
            "Requirement already satisfied: ptyprocess>=0.5 in /usr/local/lib/python3.7/dist-packages (from pexpect->ipython->keras-tuner) (0.7.0)\n",
            "Requirement already satisfied: urllib3!=1.25.0,!=1.25.1,<1.26,>=1.21.1 in /usr/local/lib/python3.7/dist-packages (from requests->keras-tuner) (1.24.3)\n",
            "Requirement already satisfied: idna<3,>=2.5 in /usr/local/lib/python3.7/dist-packages (from requests->keras-tuner) (2.10)\n",
            "Requirement already satisfied: chardet<4,>=3.0.2 in /usr/local/lib/python3.7/dist-packages (from requests->keras-tuner) (3.0.4)\n",
            "Requirement already satisfied: certifi>=2017.4.17 in /usr/local/lib/python3.7/dist-packages (from requests->keras-tuner) (2021.5.30)\n",
            "Requirement already satisfied: google-auth<2,>=1.6.3 in /usr/local/lib/python3.7/dist-packages (from tensorboard->keras-tuner) (1.35.0)\n",
            "Requirement already satisfied: markdown>=2.6.8 in /usr/local/lib/python3.7/dist-packages (from tensorboard->keras-tuner) (3.3.4)\n",
            "Requirement already satisfied: tensorboard-data-server<0.7.0,>=0.6.0 in /usr/local/lib/python3.7/dist-packages (from tensorboard->keras-tuner) (0.6.1)\n",
            "Requirement already satisfied: grpcio>=1.24.3 in /usr/local/lib/python3.7/dist-packages (from tensorboard->keras-tuner) (1.41.0)\n",
            "Requirement already satisfied: absl-py>=0.4 in /usr/local/lib/python3.7/dist-packages (from tensorboard->keras-tuner) (0.12.0)\n",
            "Requirement already satisfied: google-auth-oauthlib<0.5,>=0.4.1 in /usr/local/lib/python3.7/dist-packages (from tensorboard->keras-tuner) (0.4.6)\n",
            "Requirement already satisfied: protobuf>=3.6.0 in /usr/local/lib/python3.7/dist-packages (from tensorboard->keras-tuner) (3.17.3)\n",
            "Requirement already satisfied: wheel>=0.26 in /usr/local/lib/python3.7/dist-packages (from tensorboard->keras-tuner) (0.37.0)\n",
            "Requirement already satisfied: werkzeug>=0.11.15 in /usr/local/lib/python3.7/dist-packages (from tensorboard->keras-tuner) (1.0.1)\n",
            "Requirement already satisfied: tensorboard-plugin-wit>=1.6.0 in /usr/local/lib/python3.7/dist-packages (from tensorboard->keras-tuner) (1.8.0)\n",
            "Requirement already satisfied: cachetools<5.0,>=2.0.0 in /usr/local/lib/python3.7/dist-packages (from google-auth<2,>=1.6.3->tensorboard->keras-tuner) (4.2.4)\n",
            "Requirement already satisfied: pyasn1-modules>=0.2.1 in /usr/local/lib/python3.7/dist-packages (from google-auth<2,>=1.6.3->tensorboard->keras-tuner) (0.2.8)\n",
            "Requirement already satisfied: rsa<5,>=3.1.4 in /usr/local/lib/python3.7/dist-packages (from google-auth<2,>=1.6.3->tensorboard->keras-tuner) (4.7.2)\n",
            "Requirement already satisfied: requests-oauthlib>=0.7.0 in /usr/local/lib/python3.7/dist-packages (from google-auth-oauthlib<0.5,>=0.4.1->tensorboard->keras-tuner) (1.3.0)\n",
            "Requirement already satisfied: importlib-metadata in /usr/local/lib/python3.7/dist-packages (from markdown>=2.6.8->tensorboard->keras-tuner) (4.8.1)\n",
            "Requirement already satisfied: pyasn1<0.5.0,>=0.4.6 in /usr/local/lib/python3.7/dist-packages (from pyasn1-modules>=0.2.1->google-auth<2,>=1.6.3->tensorboard->keras-tuner) (0.4.8)\n",
            "Requirement already satisfied: oauthlib>=3.0.0 in /usr/local/lib/python3.7/dist-packages (from requests-oauthlib>=0.7.0->google-auth-oauthlib<0.5,>=0.4.1->tensorboard->keras-tuner) (3.1.1)\n",
            "Requirement already satisfied: zipp>=0.5 in /usr/local/lib/python3.7/dist-packages (from importlib-metadata->markdown>=2.6.8->tensorboard->keras-tuner) (3.6.0)\n",
            "Requirement already satisfied: typing-extensions>=3.6.4 in /usr/local/lib/python3.7/dist-packages (from importlib-metadata->markdown>=2.6.8->tensorboard->keras-tuner) (3.7.4.3)\n",
            "Installing collected packages: kt-legacy, keras-tuner\n",
            "Successfully installed keras-tuner-1.0.4 kt-legacy-1.0.4\n"
          ]
        }
      ],
      "source": [
        "!pip install keras-tuner"
      ]
    },
    {
      "cell_type": "code",
      "execution_count": null,
      "id": "DuTSsOZDY1dS",
      "metadata": {
        "colab": {
          "base_uri": "https://localhost:8080/"
        },
        "executionInfo": {
          "elapsed": 5070,
          "status": "ok",
          "timestamp": 1617909925131,
          "user": {
            "displayName": "Peter Silie",
            "photoUrl": "https://lh3.googleusercontent.com/a-/AOh14Gj3ENbbBHXeH2IeqT9JUcWtriSJEazM9HbPnOafWQ=s64",
            "userId": "07778171257195768100"
          },
          "user_tz": -120
        },
        "id": "DuTSsOZDY1dS",
        "outputId": "8019a91c-8a29-42a8-be0d-e99f02d325f2"
      },
      "outputs": [],
      "source": [
        "import pandas as pd \n",
        "import numpy as np \n",
        "import matplotlib.pyplot as plt\n",
        "import seaborn as sns\n",
        "from sklearn.model_selection import train_test_split\n",
        "\n",
        "from keras_tuner.tuners import RandomSearch\n",
        "\n",
        "import tensorflow as tf\n",
        "from tensorflow import keras\n",
        "\n",
        "import pickle\n",
        "\n",
        "print(\"Here is Tensorflow\", tf.__version__)\n"
      ]
    },
    {
      "cell_type": "markdown",
      "metadata": {},
      "source": [
        "## Load Data"
      ]
    },
    {
      "cell_type": "code",
      "execution_count": null,
      "id": "BxUYRiNeY1dh",
      "metadata": {
        "colab": {
          "base_uri": "https://localhost:8080/"
        },
        "executionInfo": {
          "elapsed": 5064,
          "status": "ok",
          "timestamp": 1617909925132,
          "user": {
            "displayName": "Peter Silie",
            "photoUrl": "https://lh3.googleusercontent.com/a-/AOh14Gj3ENbbBHXeH2IeqT9JUcWtriSJEazM9HbPnOafWQ=s64",
            "userId": "07778171257195768100"
          },
          "user_tz": -120
        },
        "id": "BxUYRiNeY1dh",
        "outputId": "3078befd-1354-45b9-b6c8-a8855f9bae52"
      },
      "outputs": [],
      "source": [
        "\n",
        "DEFAULT_DATA_PATH = \"/content/drive/MyDrive/Colab_notebooks/\"\n",
        "\n",
        "pickle_in = open(DEFAULT_DATA_PATH + \"data/X_train.p\", \"rb\")\n",
        "X_train = pd.DataFrame(pickle.load(pickle_in))\n",
        "pickle_in.close()\n",
        "\n",
        "pickle_in = open(DEFAULT_DATA_PATH + \"data/y_train.p\", \"rb\")\n",
        "y_train = pd.DataFrame(pickle.load(pickle_in))\n",
        "pickle_in.close()\n",
        "\n",
        "pickle_in = open(DEFAULT_DATA_PATH + \"data/X_test.p\", \"rb\")\n",
        "X_test = pd.DataFrame(pickle.load(pickle_in))\n",
        "pickle_in.close()\n",
        "\n",
        "pickle_in = open(DEFAULT_DATA_PATH + \"data/y_test.p\", \"rb\")\n",
        "y_test = pd.DataFrame(pickle.load(pickle_in))\n",
        "pickle_in.close()\n",
        "\n",
        "print(\"data loaded\")"
      ]
    },
    {
      "cell_type": "code",
      "execution_count": null,
      "id": "eyVR2yGrY1dk",
      "metadata": {
        "executionInfo": {
          "elapsed": 5058,
          "status": "ok",
          "timestamp": 1617909925133,
          "user": {
            "displayName": "Peter Silie",
            "photoUrl": "https://lh3.googleusercontent.com/a-/AOh14Gj3ENbbBHXeH2IeqT9JUcWtriSJEazM9HbPnOafWQ=s64",
            "userId": "07778171257195768100"
          },
          "user_tz": -120
        },
        "id": "eyVR2yGrY1dk"
      },
      "outputs": [],
      "source": [
        "## create validation set\n",
        "# kernel failed by execution\n",
        "X_train, X_val, y_train, y_val = train_test_split(X_train,y_train,test_size=0.2,random_state=123)\n"
      ]
    },
    {
      "cell_type": "markdown",
      "id": "tFGfnomDY1d1",
      "metadata": {
        "id": "tFGfnomDY1d1"
      },
      "source": [
        "# Building the model"
      ]
    },
    {
      "cell_type": "code",
      "execution_count": 8,
      "id": "vLFd818KY1dy",
      "metadata": {
        "id": "vLFd818KY1dy"
      },
      "outputs": [],
      "source": [
        "# Input Layer: 20 neurons\n",
        "# hidden Layers: 1 to 5 \n",
        "# Outplut Layer: 1 Neuron\n",
        "# Output Activation function: logistic\n",
        "# Loss function cross entropy"
      ]
    },
    {
      "cell_type": "code",
      "execution_count": 9,
      "id": "0V0cOoZKY1d7",
      "metadata": {
        "id": "0V0cOoZKY1d7"
      },
      "outputs": [],
      "source": [
        "model = keras.Sequential()\n",
        "model.add(keras.layers.Flatten(input_shape=[1, 20]))\n",
        "model.add(keras.layers.Dense(13, activation=\"relu\"))\n",
        "model.add(keras.layers.Dense(7, activation=\"relu\"))\n",
        "model.add(keras.layers.Dense(1, activation=\"sigmoid\"))"
      ]
    },
    {
      "cell_type": "code",
      "execution_count": 10,
      "id": "O96AGzpPY1d_",
      "metadata": {
        "colab": {
          "base_uri": "https://localhost:8080/"
        },
        "id": "O96AGzpPY1d_",
        "outputId": "23d39813-c944-48d9-e8b1-ce3a25a85e0d"
      },
      "outputs": [
        {
          "name": "stdout",
          "output_type": "stream",
          "text": [
            "Model: \"sequential\"\n",
            "_________________________________________________________________\n",
            "Layer (type)                 Output Shape              Param #   \n",
            "=================================================================\n",
            "flatten (Flatten)            (None, 20)                0         \n",
            "_________________________________________________________________\n",
            "dense (Dense)                (None, 13)                273       \n",
            "_________________________________________________________________\n",
            "dense_1 (Dense)              (None, 7)                 98        \n",
            "_________________________________________________________________\n",
            "dense_2 (Dense)              (None, 1)                 8         \n",
            "=================================================================\n",
            "Total params: 379\n",
            "Trainable params: 379\n",
            "Non-trainable params: 0\n",
            "_________________________________________________________________\n"
          ]
        }
      ],
      "source": [
        "model.summary()"
      ]
    },
    {
      "cell_type": "code",
      "execution_count": 11,
      "id": "-hO0d44LY1eD",
      "metadata": {
        "colab": {
          "base_uri": "https://localhost:8080/"
        },
        "id": "-hO0d44LY1eD",
        "outputId": "18fd8428-547a-4747-f256-eb26b12409f1"
      },
      "outputs": [
        {
          "name": "stderr",
          "output_type": "stream",
          "text": [
            "/usr/local/lib/python3.7/dist-packages/keras/optimizer_v2/optimizer_v2.py:356: UserWarning: The `lr` argument is deprecated, use `learning_rate` instead.\n",
            "  \"The `lr` argument is deprecated, use `learning_rate` instead.\")\n"
          ]
        }
      ],
      "source": [
        "# compiling\n",
        "adam_opt = keras.optimizers.Adam(lr = .01)\n",
        "\n",
        "model.compile(loss=\"binary_crossentropy\",\n",
        "    optimizer=adam_opt, \n",
        "    metrics=[\"accuracy\"])"
      ]
    },
    {
      "cell_type": "code",
      "execution_count": 12,
      "id": "SuSjKy7BY1eP",
      "metadata": {
        "colab": {
          "base_uri": "https://localhost:8080/"
        },
        "id": "SuSjKy7BY1eP",
        "outputId": "0fa3a17e-f073-423d-b994-1cf50d384ade"
      },
      "outputs": [
        {
          "name": "stdout",
          "output_type": "stream",
          "text": [
            "Epoch 1/100\n",
            "WARNING:tensorflow:Model was constructed with shape (None, 1, 20) for input KerasTensor(type_spec=TensorSpec(shape=(None, 1, 20), dtype=tf.float32, name='flatten_input'), name='flatten_input', description=\"created by layer 'flatten_input'\"), but it was called on an input with incompatible shape (None, 20).\n",
            "WARNING:tensorflow:Model was constructed with shape (None, 1, 20) for input KerasTensor(type_spec=TensorSpec(shape=(None, 1, 20), dtype=tf.float32, name='flatten_input'), name='flatten_input', description=\"created by layer 'flatten_input'\"), but it was called on an input with incompatible shape (None, 20).\n",
            "230/233 [============================>.] - ETA: 0s - loss: 0.5103 - accuracy: 0.7466WARNING:tensorflow:Model was constructed with shape (None, 1, 20) for input KerasTensor(type_spec=TensorSpec(shape=(None, 1, 20), dtype=tf.float32, name='flatten_input'), name='flatten_input', description=\"created by layer 'flatten_input'\"), but it was called on an input with incompatible shape (None, 20).\n",
            "233/233 [==============================] - 4s 5ms/step - loss: 0.5100 - accuracy: 0.7463 - val_loss: 0.4554 - val_accuracy: 0.7826\n",
            "Epoch 2/100\n",
            "233/233 [==============================] - 1s 4ms/step - loss: 0.4765 - accuracy: 0.7597 - val_loss: 0.4602 - val_accuracy: 0.7783\n",
            "Epoch 3/100\n",
            "233/233 [==============================] - 1s 4ms/step - loss: 0.4721 - accuracy: 0.7664 - val_loss: 0.4365 - val_accuracy: 0.7955\n",
            "Epoch 4/100\n",
            "233/233 [==============================] - 1s 4ms/step - loss: 0.4623 - accuracy: 0.7667 - val_loss: 0.4432 - val_accuracy: 0.7896\n",
            "Epoch 5/100\n",
            "233/233 [==============================] - 1s 4ms/step - loss: 0.4597 - accuracy: 0.7766 - val_loss: 0.4338 - val_accuracy: 0.7923\n",
            "Epoch 6/100\n",
            "233/233 [==============================] - 1s 4ms/step - loss: 0.4552 - accuracy: 0.7791 - val_loss: 0.4422 - val_accuracy: 0.7874\n",
            "Epoch 7/100\n",
            "233/233 [==============================] - 1s 4ms/step - loss: 0.4537 - accuracy: 0.7804 - val_loss: 0.4495 - val_accuracy: 0.7858\n",
            "Epoch 8/100\n",
            "233/233 [==============================] - 1s 4ms/step - loss: 0.4477 - accuracy: 0.7858 - val_loss: 0.4366 - val_accuracy: 0.7917\n",
            "Epoch 9/100\n",
            "233/233 [==============================] - 1s 4ms/step - loss: 0.4478 - accuracy: 0.7878 - val_loss: 0.4448 - val_accuracy: 0.7880\n",
            "Epoch 10/100\n",
            "233/233 [==============================] - 1s 4ms/step - loss: 0.4456 - accuracy: 0.7855 - val_loss: 0.4360 - val_accuracy: 0.7912\n",
            "Epoch 11/100\n",
            "233/233 [==============================] - 1s 4ms/step - loss: 0.4426 - accuracy: 0.7863 - val_loss: 0.4368 - val_accuracy: 0.7928\n",
            "Epoch 12/100\n",
            "233/233 [==============================] - 1s 4ms/step - loss: 0.4397 - accuracy: 0.7871 - val_loss: 0.4402 - val_accuracy: 0.7944\n",
            "Epoch 13/100\n",
            "233/233 [==============================] - 1s 4ms/step - loss: 0.4396 - accuracy: 0.7855 - val_loss: 0.4439 - val_accuracy: 0.7966\n",
            "Epoch 14/100\n",
            "233/233 [==============================] - 1s 4ms/step - loss: 0.4365 - accuracy: 0.7915 - val_loss: 0.4434 - val_accuracy: 0.7789\n",
            "Epoch 15/100\n",
            "233/233 [==============================] - 1s 4ms/step - loss: 0.4341 - accuracy: 0.7898 - val_loss: 0.4482 - val_accuracy: 0.7831\n"
          ]
        }
      ],
      "source": [
        "# establish call backs\n",
        "early_stopping_cb = keras.callbacks.EarlyStopping(patience=10, \n",
        "                                                  restore_best_weights=True)\n",
        "checkpoint_cb = keras.callbacks.ModelCheckpoint(\"churn_model.h5\", \n",
        "                                                save_best_only=True)\n",
        "\n",
        "# train first model\n",
        "\n",
        "training_history = model.fit(X_train, y_train, epochs=100, \n",
        "                             validation_data=(X_val, y_val), \n",
        "                             callbacks=[checkpoint_cb, early_stopping_cb])"
      ]
    },
    {
      "cell_type": "code",
      "execution_count": 13,
      "id": "LFiZgf5BdcyR",
      "metadata": {
        "colab": {
          "base_uri": "https://localhost:8080/",
          "height": 487
        },
        "id": "LFiZgf5BdcyR",
        "outputId": "fb1d869f-8407-4fe9-d1ac-15f51c9f1987"
      },
      "outputs": [
        {
          "data": {
            "image/png": "[encoded data removed]",
            "text/plain": [
              "<Figure size 720x576 with 1 Axes>"
            ]
          },
          "metadata": {
            "needs_background": "light"
          },
          "output_type": "display_data"
        }
      ],
      "source": [
        "pd.DataFrame(training_history.history).plot(figsize = (10, 8))\n",
        "plt.grid()\n",
        "plt.ylim(0,1)\n",
        "plt.show()"
      ]
    },
    {
      "cell_type": "markdown",
      "id": "Oob-Q03ZjaB2",
      "metadata": {
        "id": "Oob-Q03ZjaB2"
      },
      "source": [
        "## Hyperparameter tuning"
      ]
    },
    {
      "cell_type": "code",
      "execution_count": 14,
      "id": "OE2Wz8Eqjc_m",
      "metadata": {
        "id": "OE2Wz8Eqjc_m"
      },
      "outputs": [],
      "source": [
        "def build_model(hp):\n",
        "  model_tuned = keras.models.Sequential()\n",
        "  model_tuned.add(keras.layers.Flatten(input_shape=[20]))\n",
        "  for layer in range(hp.Int('h_layers',\n",
        "                            min_value=1,\n",
        "                            max_value=5,\n",
        "                            step=1)):\n",
        "    model_tuned.add(keras.layers.Dense(hp.Int('neurons',\n",
        "                                              min_value=3,\n",
        "                                              max_value=18,\n",
        "                                              step=3), \n",
        "                                       activation=\"relu\"))\n",
        "  model_tuned.add(keras.layers.Dense(1, activation=\"sigmoid\"))\n",
        "\n",
        "  opt = keras.optimizers.Adam(lr = hp.Choice('learning_rate',\n",
        "                                             [0.1, 0.01, 0.001, 0.0001]))\n",
        "  model_tuned.compile(loss=\"binary_crossentropy\", optimizer=opt)\n",
        "  return model_tuned"
      ]
    },
    {
      "cell_type": "code",
      "execution_count": 15,
      "id": "r_tgZL4IlD-2",
      "metadata": {
        "colab": {
          "base_uri": "https://localhost:8080/"
        },
        "id": "r_tgZL4IlD-2",
        "outputId": "23164f77-b001-4fb7-aec4-c01ed45872fe"
      },
      "outputs": [
        {
          "name": "stdout",
          "output_type": "stream",
          "text": [
            "INFO:tensorflow:Reloading Oracle from existing project /content/drive/MyDrive/Colab_notebooks/models/telco_model/oracle.json\n",
            "INFO:tensorflow:Reloading Tuner from /content/drive/MyDrive/Colab_notebooks/models/telco_model/tuner0.json\n"
          ]
        },
        {
          "name": "stderr",
          "output_type": "stream",
          "text": [
            "/usr/local/lib/python3.7/dist-packages/keras/optimizer_v2/optimizer_v2.py:356: UserWarning: The `lr` argument is deprecated, use `learning_rate` instead.\n",
            "  \"The `lr` argument is deprecated, use `learning_rate` instead.\")\n"
          ]
        }
      ],
      "source": [
        "# wrap the keras model, so we can tune it like a scikit model\n",
        "\n",
        "# keras_clas = keras.wrappers.scikit_learn.KerasClassifier(build_model)\n",
        "\n",
        "tuner = RandomSearch(\n",
        "    build_model,\n",
        "    objective='val_loss',\n",
        "    max_trials=5,\n",
        "    executions_per_trial=2,\n",
        "    directory=DEFAULT_DATA_PATH + 'models',\n",
        "    project_name='telco_model')"
      ]
    },
    {
      "cell_type": "code",
      "execution_count": 16,
      "id": "ea9A8Z1a4mMu",
      "metadata": {
        "colab": {
          "base_uri": "https://localhost:8080/"
        },
        "id": "ea9A8Z1a4mMu",
        "outputId": "175da32f-fe42-4ac0-fc4c-aa2740c1a14a"
      },
      "outputs": [
        {
          "name": "stdout",
          "output_type": "stream",
          "text": [
            "INFO:tensorflow:Oracle triggered exit\n",
            "Results summary\n",
            "Results in /content/drive/MyDrive/Colab_notebooks/models/telco_model\n",
            "Showing 10 best trials\n",
            "Objective(name='val_loss', direction='min')\n",
            "Trial summary\n",
            "Hyperparameters:\n",
            "h_layers: 2\n",
            "neurons: 9\n",
            "learning_rate: 0.01\n",
            "Score: 0.43087054044008255\n",
            "Trial summary\n",
            "Hyperparameters:\n",
            "h_layers: 3\n",
            "neurons: 6\n",
            "learning_rate: 0.01\n",
            "Score: 0.43252476304769516\n",
            "Trial summary\n",
            "Hyperparameters:\n",
            "h_layers: 2\n",
            "neurons: 9\n",
            "learning_rate: 0.0001\n",
            "Score: 0.47699520736932755\n",
            "Trial summary\n",
            "Hyperparameters:\n",
            "h_layers: 4\n",
            "neurons: 6\n",
            "learning_rate: 0.0001\n",
            "Score: 0.5017941072583199\n",
            "Trial summary\n",
            "Hyperparameters:\n",
            "h_layers: 4\n",
            "neurons: 3\n",
            "learning_rate: 0.01\n",
            "Score: 0.5057656839489937\n",
            "None\n"
          ]
        }
      ],
      "source": [
        "# print(tuner.search_space_summary())\n",
        "\n",
        "tuner.search(x=X_train, y=y_train, epochs=20, validation_data = (X_val, y_val))\n",
        "print(tuner.results_summary())"
      ]
    },
    {
      "cell_type": "markdown",
      "id": "K5lw23X7-iyU",
      "metadata": {
        "id": "K5lw23X7-iyU"
      },
      "source": [
        "**Final thoughts:**  \n",
        "As we can see, this hyperparameter tuning is not close to the manually selected params at all. That seems logical to me because in the tuning model, each hidden layer must have the same number of neurons, which leads to a very unorganical network."
      ]
    },
    {
      "cell_type": "code",
      "execution_count": 16,
      "id": "L-RNdsPC_BY1",
      "metadata": {
        "id": "L-RNdsPC_BY1"
      },
      "outputs": [],
      "source": []
    }
  ],
  "metadata": {
    "accelerator": "GPU",
    "colab": {
      "collapsed_sections": [],
      "name": "2b-prediction_nn.ipynb",
      "provenance": [],
      "toc_visible": true
    },
    "kernelspec": {
      "display_name": "Python 3.8.9 64-bit",
      "name": "python389jvsc74a57bd07b80923e581c7d339eee8234ce5622e7c9780ccfbcf66f39b50af355405bd0c3"
    },
    "language_info": {
      "codemirror_mode": {
        "name": "ipython",
        "version": 3
      },
      "file_extension": ".py",
      "mimetype": "text/x-python",
      "name": "python",
      "nbconvert_exporter": "python",
      "pygments_lexer": "ipython3",
      "version": "3.8.9"
    }
  },
  "nbformat": 4,
  "nbformat_minor": 5
}
